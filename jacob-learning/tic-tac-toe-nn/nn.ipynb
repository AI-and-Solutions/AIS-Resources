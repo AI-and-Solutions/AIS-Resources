{
 "cells": [
  {
   "cell_type": "code",
   "execution_count": 2,
   "metadata": {},
   "outputs": [],
   "source": [
    "import torch\n",
    "import torch.nn as nn\n",
    "import torch.nn.functional as F\n",
    "import torch.optim as optim"
   ]
  },
  {
   "cell_type": "code",
   "execution_count": 3,
   "metadata": {},
   "outputs": [],
   "source": [
    "class BoardGameNet(nn.Module):\n",
    "    def __init__(self, board_size, hidden_size=128):\n",
    "        super(BoardGameNet, self).__init__()\n",
    "    \n",
    "        input_layer_size = board_size * board_size + 1 # 1 neuron for every square, and another\n",
    "                                                     #   neuron to indicate which player is moving \n",
    "\n",
    "\n",
    "        self.fc1 = nn.Linear(input_layer_size, hidden_size) # input layer\n",
    "        self.fc2 = nn.Linear(hidden_size, hidden_size) # hidden layer\n",
    "        self.fc3 = nn.Linear(hidden_size, board_size * board_size) # output layer\n",
    "\n",
    "    def forward(self, x):\n",
    "        x = F.relu(self.fc1(x))\n",
    "        x = F.relu(self.fc2(x))\n",
    "        x = self.fc3(x)\n",
    "\n",
    "        x = F.softmax(x, dim=1)"
   ]
  },
  {
   "cell_type": "code",
   "execution_count": 4,
   "metadata": {},
   "outputs": [],
   "source": [
    "board_size = 3\n",
    "model = BoardGameNet(board_size)\n",
    "\n",
    "criterion = nn.CrossEntropyLoss()\n",
    "optimizer = optim.Adam(model.parameters(), lr=0.001)"
   ]
  },
  {
   "cell_type": "markdown",
   "metadata": {},
   "source": [
    "building the dataloader:"
   ]
  },
  {
   "cell_type": "code",
   "execution_count": 2,
   "metadata": {},
   "outputs": [],
   "source": [
    "import copy\n",
    "\n",
    "PLAYER1, BLANK, PLAYER2 = -1, 0, 1 #enum encoding representation of square values\n",
    "\n",
    "\n",
    "board = [[0] * 3] # each \"board\" is 9 squares encoded with x or o as -1 / 1\n",
    "                    # and an element dictating who's turn it is (player1 or player2) as -1 / 1\n",
    "                    # am thinking about adding the turn element after populating the board\n"
   ]
  },
  {
   "cell_type": "code",
   "execution_count": 4,
   "metadata": {},
   "outputs": [
    {
     "name": "stdout",
     "output_type": "stream",
     "text": [
      "1\n"
     ]
    }
   ],
   "source": [
    "# Function to determine whose turn it is\n",
    "\n",
    "def get_current_player(board):\n",
    "    player1_moves = sum(cell == PLAYER1 for row in board for cell in row)\n",
    "    player2_moves = sum(cell == PLAYER2 for row in board for cell in row)\n",
    "    \n",
    "    if player1_moves <= player2_moves:\n",
    "        return PLAYER1  # Player 1's turn\n",
    "    else:\n",
    "        return PLAYER2  # Player 2's turn"
   ]
  },
  {
   "cell_type": "code",
   "execution_count": 5,
   "metadata": {},
   "outputs": [],
   "source": [
    "\n",
    "def check_winner(board):\n",
    "    # Check rows, columns, and diagonals for a winner\n",
    "    for row in board:\n",
    "        if abs(sum(row)) == 3:  # All squares in row are the same\n",
    "            return True\n",
    "    \n",
    "    for col in range(3):\n",
    "        if abs(sum([board[row][col] for row in range(3)])) == 3:\n",
    "            return True\n",
    "    \n",
    "    # Check diagonals\n",
    "    if abs(board[0][0] + board[1][1] + board[2][2]) == 3:\n",
    "        return True\n",
    "    if abs(board[0][2] + board[1][1] + board[2][0]) == 3:\n",
    "        return True\n",
    "    \n",
    "    return False\n"
   ]
  },
  {
   "cell_type": "code",
   "execution_count": 8,
   "metadata": {},
   "outputs": [],
   "source": [
    "def buildBoards(board):\n",
    "    new_boards = []\n",
    "    new_boards.append(board)\n",
    "\n",
    "    print(new_boards)\n",
    "\n",
    "    for board in new_boards:\n",
    "\n",
    "        current_player = get_current_player(board)  # Determine the current player\n",
    "\n",
    "        for row in range(3):\n",
    "            for col in range(3):\n",
    "                \n",
    "                if board[row][col] == BLANK:\n",
    "                    # Create a deep copy of the current board\n",
    "                    board_copy = [copy.deepcopy(row) for row in board]\n",
    "\n",
    "                    # Place the current player's mark in the empty square\n",
    "                    board_copy[row][col] = current_player\n",
    "                    \n",
    "                    #print(\"it is player\",current_player,\"'s turn, evaluating position (\",row,\",\",col,\")\\n\")\n",
    "                    #print(\"old board:   \\n\", board[0], \"\\n\", board[1], \"\\n\", board[2], \"\\n\")\n",
    "                    #print(\"board with move:  \\n\", board_copy[0],\"\\n\",board_copy[1],\"\\n\",board_copy[2], \"\\n\\n\\n\")\n",
    "                    \n",
    "                    \n",
    "                    # Check if the board has a winner\n",
    "                    if not check_winner(board_copy):\n",
    "                        #print(\"this board has been added to the dataset\")\n",
    "                        new_boards.append(board_copy)\n",
    "                        \n",
    "\n",
    "\n",
    "    return new_boards\n",
    "\n"
   ]
  },
  {
   "cell_type": "code",
   "execution_count": 9,
   "metadata": {},
   "outputs": [
    {
     "name": "stdout",
     "output_type": "stream",
     "text": [
      "[[[0, 0, 0], [0, 0, 0], [0, 0, 0]]]\n",
      "340858\n"
     ]
    }
   ],
   "source": [
    "board = [[0] * 3] * 3\n",
    "\n",
    "dataset = buildBoards(board)\n",
    "\n",
    "print(len(dataset))"
   ]
  },
  {
   "cell_type": "code",
   "execution_count": null,
   "metadata": {},
   "outputs": [],
   "source": [
    "def train(model, data_loader, epochs=10):\n",
    "    for epoch in range(epochs):\n",
    "        for board_state, move_label in data_loader:\n",
    "\n",
    "            #zero gradients\n",
    "            optimizer.zero_grad()\n",
    "\n",
    "\n",
    "            #forward pass (propagate forward)\n",
    "            output = model(board_state)\n",
    "            loss = criterion(output, move_label)\n",
    "\n",
    "            \n",
    "            # Backpropagation and Optimization\n",
    "            loss.backward()\n",
    "            optimizer.step()\n",
    "\n",
    "        print(f'Epoch {epoch+1}/{epochs}, Loss: {loss.item()}')"
   ]
  }
 ],
 "metadata": {
  "kernelspec": {
   "display_name": "ais",
   "language": "python",
   "name": "python3"
  },
  "language_info": {
   "codemirror_mode": {
    "name": "ipython",
    "version": 3
   },
   "file_extension": ".py",
   "mimetype": "text/x-python",
   "name": "python",
   "nbconvert_exporter": "python",
   "pygments_lexer": "ipython3",
   "version": "3.12.6"
  }
 },
 "nbformat": 4,
 "nbformat_minor": 2
}
