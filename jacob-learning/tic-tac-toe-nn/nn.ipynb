{
 "cells": [
  {
   "cell_type": "code",
   "execution_count": 2,
   "metadata": {},
   "outputs": [],
   "source": [
    "import torch\n",
    "import torch.nn as nn\n",
    "import torch.nn.functional as F\n",
    "import torch.optim as optim"
   ]
  },
  {
   "cell_type": "code",
   "execution_count": 3,
   "metadata": {},
   "outputs": [],
   "source": [
    "class BoardGameNet(nn.Module):\n",
    "    def __init__(self, board_size, hidden_size=128):\n",
    "        super(BoardGameNet, self).__init__()\n",
    "    \n",
    "        input_layer_size = board_size * board_size + 1 # 1 neuron for every square, and another\n",
    "                                                     #   neuron to indicate which player is moving \n",
    "\n",
    "\n",
    "        self.fc1 = nn.Linear(input_layer_size, hidden_size) # input layer\n",
    "        self.fc2 = nn.Linear(hidden_size, hidden_size) # hidden layer\n",
    "        self.fc3 = nn.Linear(hidden_size, board_size * board_size) # output layer\n",
    "\n",
    "    def forward(self, x):\n",
    "        x = F.relu(self.fc1(x))\n",
    "        x = F.relu(self.fc2(x))\n",
    "        x = self.fc3(x)\n",
    "\n",
    "        x = F.softmax(x, dim=1)"
   ]
  },
  {
   "cell_type": "code",
   "execution_count": 4,
   "metadata": {},
   "outputs": [],
   "source": [
    "board_size = 3\n",
    "model = BoardGameNet(board_size)\n",
    "\n",
    "criterion = nn.CrossEntropyLoss()\n",
    "optimizer = optim.Adam(model.parameters(), lr=0.001)"
   ]
  },
  {
   "cell_type": "markdown",
   "metadata": {},
   "source": [
    "building the dataloader:"
   ]
  },
  {
   "cell_type": "code",
   "execution_count": 7,
   "metadata": {},
   "outputs": [
    {
     "name": "stdout",
     "output_type": "stream",
     "text": [
      "True\n"
     ]
    }
   ],
   "source": [
    "bd = [ [-1, 0, -1],\n",
    "        [1, -1, 0],\n",
    "        [-1, 0, -1]\n",
    "]\n",
    "\n",
    "def check_winner(board):\n",
    "    # Check rows, columns, and diagonals for a winner\n",
    "    for row in board:\n",
    "        if abs(sum(row)) == 3:  # All squares in row are the same\n",
    "            return True\n",
    "    \n",
    "    for col in range(3):\n",
    "        if abs(sum([board[row][col] for row in range(3)])) == 3:\n",
    "            return True\n",
    "    \n",
    "    # Check diagonals\n",
    "    if abs(board[0][0] + board[1][1] + board[2][2]) == 3:\n",
    "        return True\n",
    "    if abs(board[0][2] + board[1][1] + board[2][0]) == 3:\n",
    "        return True\n",
    "    \n",
    "    return False\n",
    "\n",
    "print(check_winner(bd))"
   ]
  },
  {
   "cell_type": "code",
   "execution_count": null,
   "metadata": {},
   "outputs": [],
   "source": [
    "PLAYER1, BLANK, PLAYER2 = -1, 0, 1 #enum encoding representation of square values\n",
    "\n",
    "\n",
    "board = [[0] * 3] # each \"board\" is 9 squares encoded with x or o as -1 / 1\n",
    "                    # and an element dictating who's turn it is (player1 or player2) as -1 / 1\n",
    "                    # am thinking about adding the turn element after populating the board\n",
    "\n",
    "\n",
    "boards = [] # set of boards\n",
    "\n",
    "def buildBoards(boards):\n",
    "\n",
    "    # read from current pool of boards\n",
    "    # determine player turn ?\n",
    "    # place a square for every blank space\n",
    "    # if the board has a winner, then delete it\n",
    "    # add this new board to the pool of boards\n",
    "\n",
    "\n",
    "    # assume its player1's turn\n",
    "    for board in boards:\n",
    "        board_copy = board\n",
    "\n",
    "        for square in board_copy:\n",
    "            if square == BLANK:\n",
    "                square = PLAYER1\n",
    "\n",
    "                boards.append(boardCopy)\n",
    "                square = BLANK\n",
    "\n",
    "\n",
    "\n",
    "\n"
   ]
  },
  {
   "cell_type": "code",
   "execution_count": 5,
   "metadata": {},
   "outputs": [],
   "source": [
    "def train(model, data_loader, epochs=10):\n",
    "    for epoch in range(epochs):\n",
    "        for board_state, move_label in data_loader:\n",
    "\n",
    "            #zero gradients\n",
    "            optimizer.zero_grad()\n",
    "\n",
    "\n",
    "            #forward pass (propagate forward)\n",
    "            output = model(board_state)\n",
    "            loss = criterion(output, move_label)\n",
    "\n",
    "            \n",
    "            # Backpropagation and Optimization\n",
    "            loss.backward()\n",
    "            optimizer.step()\n",
    "\n",
    "        print(f'Epoch {epoch+1}/{epochs}, Loss: {loss.item()}')"
   ]
  },
  {
   "cell_type": "code",
   "execution_count": 10,
   "metadata": {},
   "outputs": [
    {
     "name": "stdout",
     "output_type": "stream",
     "text": [
      "[1]\n",
      "[2]\n",
      "[-600]\n",
      "[4]\n"
     ]
    }
   ],
   "source": [
    "data = [[ [1], [2] ], [ [-600], [4] ]]\n",
    "\n",
    "for a, b in data:\n",
    "    print(a) # board encoding (some list of numbers)\n",
    "    print(b) # label (some index)\n",
    "\n"
   ]
  },
  {
   "cell_type": "code",
   "execution_count": 25,
   "metadata": {},
   "outputs": [
    {
     "name": "stdout",
     "output_type": "stream",
     "text": [
      "['x', 'x', '_']\n",
      "\n",
      "\n",
      "['_', '_', '_']\n",
      "\n",
      "\n",
      "['o', 'o', 'o']\n",
      "\n",
      "\n"
     ]
    }
   ],
   "source": [
    "# x's are -1\n",
    "# o's are 1\n",
    "def printBoard(encoding):\n",
    "\n",
    "    board = [[0, 0, 0], [0, 0, 0], [0, 0, 0] ]\n",
    "    counter = 0\n",
    "\n",
    "    for move in encoding:\n",
    "        \n",
    "        if counter == 9:\n",
    "            \n",
    "\n",
    "            for row in board:\n",
    "                print(row)\n",
    "                print('\\n')\n",
    "\n",
    "            return\n",
    "\n",
    "        if (move == -1):\n",
    "            board[int(counter / 3)][counter % 3] = \"x\"\n",
    "        elif (move == 0):\n",
    "            board[int(counter / 3)][counter % 3] = '_'\n",
    "        else:\n",
    "            board[int(counter / 3)][counter % 3] = 'o'\n",
    "        \n",
    "        counter+=1\n",
    "        \n",
    "    \n",
    "printBoard([-1, -1, 0, 0, 0, 0, 1, 1, 1, 'b'])\n"
   ]
  },
  {
   "cell_type": "code",
   "execution_count": null,
   "metadata": {},
   "outputs": [],
   "source": []
  },
  {
   "cell_type": "code",
   "execution_count": null,
   "metadata": {},
   "outputs": [],
   "source": []
  }
 ],
 "metadata": {
  "kernelspec": {
   "display_name": "ais",
   "language": "python",
   "name": "python3"
  },
  "language_info": {
   "codemirror_mode": {
    "name": "ipython",
    "version": 3
   },
   "file_extension": ".py",
   "mimetype": "text/x-python",
   "name": "python",
   "nbconvert_exporter": "python",
   "pygments_lexer": "ipython3",
   "version": "3.12.6"
  }
 },
 "nbformat": 4,
 "nbformat_minor": 2
}
