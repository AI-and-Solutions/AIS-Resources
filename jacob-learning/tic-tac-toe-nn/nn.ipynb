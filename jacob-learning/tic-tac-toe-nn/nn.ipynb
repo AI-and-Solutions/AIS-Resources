{
 "cells": [
  {
   "cell_type": "code",
   "execution_count": 2,
   "metadata": {},
   "outputs": [],
   "source": [
    "import torch\n",
    "import torch.nn as nn\n",
    "import torch.nn.functional as F\n",
    "import torch.optim as optim"
   ]
  },
  {
   "cell_type": "code",
   "execution_count": 3,
   "metadata": {},
   "outputs": [],
   "source": [
    "class BoardGameNet(nn.Module):\n",
    "    def __init__(self, board_size, hidden_size=128):\n",
    "        super(BoardGameNet, self).__init__()\n",
    "    \n",
    "        input_layer_size = board_size * board_size + 1 # 1 neuron for every square, and another\n",
    "                                                     #   neuron to indicate which player is moving \n",
    "\n",
    "\n",
    "        self.fc1 = nn.Linear(input_layer_size, hidden_size) # input layer\n",
    "        self.fc2 = nn.Linear(hidden_size, hidden_size) # hidden layer\n",
    "        self.fc3 = nn.Linear(hidden_size, board_size * board_size) # output layer\n",
    "\n",
    "    def forward(self, x):\n",
    "        x = F.relu(self.fc1(x))\n",
    "        x = F.relu(self.fc2(x))\n",
    "        x = self.fc3(x)\n",
    "\n",
    "        x = F.softmax(x, dim=1)"
   ]
  },
  {
   "cell_type": "code",
   "execution_count": 4,
   "metadata": {},
   "outputs": [],
   "source": [
    "board_size = 3\n",
    "model = BoardGameNet(board_size)\n",
    "\n",
    "criterion = nn.CrossEntropyLoss()\n",
    "optimizer = optim.Adam(model.parameters(), lr=0.001)"
   ]
  },
  {
   "cell_type": "code",
   "execution_count": 5,
   "metadata": {},
   "outputs": [],
   "source": [
    "def train(model, data_loader, epochs=10):\n",
    "    for epoch in range(epochs):\n",
    "        for board_state, move_label in data_loader:\n",
    "\n",
    "            #zero gradients\n",
    "            optimizer.zero_grad()\n",
    "\n",
    "\n",
    "            #forward pass (propagate forward)\n",
    "            output = model(board_state)\n",
    "            loss = criterion(output, move_label)\n",
    "\n",
    "            \n",
    "            # Backpropagation and Optimization\n",
    "            loss.backward()\n",
    "            optimizer.step()\n",
    "\n",
    "        print(f'Epoch {epoch+1}/{epochs}, Loss: {loss.item()}')"
   ]
  },
  {
   "cell_type": "code",
   "execution_count": 10,
   "metadata": {},
   "outputs": [
    {
     "name": "stdout",
     "output_type": "stream",
     "text": [
      "[1]\n",
      "[2]\n",
      "[-600]\n",
      "[4]\n"
     ]
    }
   ],
   "source": [
    "data = [[ [1], [2] ], [ [-600], [4] ]]\n",
    "\n",
    "for a, b in data:\n",
    "    print(a) # board encoding (some list of numbers)\n",
    "    print(b) # label (some index)\n",
    "\n"
   ]
  },
  {
   "cell_type": "code",
   "execution_count": 25,
   "metadata": {},
   "outputs": [
    {
     "name": "stdout",
     "output_type": "stream",
     "text": [
      "['x', 'x', '_']\n",
      "\n",
      "\n",
      "['_', '_', '_']\n",
      "\n",
      "\n",
      "['o', 'o', 'o']\n",
      "\n",
      "\n"
     ]
    }
   ],
   "source": [
    "# x's are -1\n",
    "# o's are 1\n",
    "def printBoard(encoding):\n",
    "\n",
    "    board = [[0, 0, 0], [0, 0, 0], [0, 0, 0] ]\n",
    "    counter = 0\n",
    "\n",
    "    for move in encoding:\n",
    "        \n",
    "        if counter == 9:\n",
    "            \n",
    "\n",
    "            for row in board:\n",
    "                print(row)\n",
    "                print('\\n')\n",
    "\n",
    "            return\n",
    "\n",
    "        if (move == -1):\n",
    "            board[int(counter / 3)][counter % 3] = \"x\"\n",
    "        elif (move == 0):\n",
    "            board[int(counter / 3)][counter % 3] = '_'\n",
    "        else:\n",
    "            board[int(counter / 3)][counter % 3] = 'o'\n",
    "        \n",
    "        counter+=1\n",
    "        \n",
    "    \n",
    "printBoard([-1, -1, 0, 0, 0, 0, 1, 1, 1, 'b'])\n"
   ]
  },
  {
   "cell_type": "code",
   "execution_count": null,
   "metadata": {},
   "outputs": [],
   "source": []
  },
  {
   "cell_type": "code",
   "execution_count": null,
   "metadata": {},
   "outputs": [],
   "source": []
  }
 ],
 "metadata": {
  "kernelspec": {
   "display_name": "ais",
   "language": "python",
   "name": "python3"
  },
  "language_info": {
   "codemirror_mode": {
    "name": "ipython",
    "version": 3
   },
   "file_extension": ".py",
   "mimetype": "text/x-python",
   "name": "python",
   "nbconvert_exporter": "python",
   "pygments_lexer": "ipython3",
   "version": "3.12.6"
  }
 },
 "nbformat": 4,
 "nbformat_minor": 2
}
